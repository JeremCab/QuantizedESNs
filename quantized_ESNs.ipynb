{
 "cells": [
  {
   "cell_type": "code",
   "execution_count": 1,
   "id": "8679a9bb-0c4f-4db4-9ce3-9d76bffac16f",
   "metadata": {
    "editable": true,
    "slideshow": {
     "slide_type": ""
    },
    "tags": [
     "parameters"
    ]
   },
   "outputs": [],
   "source": [
    "# parameters\n",
    "\n",
    "time_series = \"mackeyglass\"  # \"mackeyglass\", \"lorenz\", \"henonmap\"\n",
    "num_exp = 20\n",
    "forecast = 10\n",
    "num_bits = 64\n",
    "quant_mode = \"all\" # \"res\", \"all\""
   ]
  },
  {
   "cell_type": "markdown",
   "id": "cd3269f8-163e-4385-9212-5c552d136bce",
   "metadata": {
    "editable": true,
    "slideshow": {
     "slide_type": ""
    },
    "tags": []
   },
   "source": [
    "# Quantized ESNs"
   ]
  },
  {
   "cell_type": "markdown",
   "id": "2057aedf-d037-4860-8495-788bf4ac59fb",
   "metadata": {},
   "source": [
    "## Librairies"
   ]
  },
  {
   "cell_type": "code",
   "execution_count": 2,
   "id": "09cd56b3-5213-46dd-8b34-f33980cb6bc9",
   "metadata": {
    "editable": true,
    "slideshow": {
     "slide_type": ""
    },
    "tags": []
   },
   "outputs": [],
   "source": [
    "import os\n",
    "import pickle\n",
    "\n",
    "import numpy as np\n",
    "\n",
    "import reservoirpy as rpy\n",
    "from reservoirpy.mat_gen import random_sparse\n",
    "from reservoirpy.nodes import Reservoir, Ridge\n",
    "from reservoirpy.datasets import to_forecasting\n",
    "from reservoirpy.datasets import mackey_glass, lorenz, henon_map\n",
    "from reservoirpy.observables import mse, rmse, nrmse, rsquare\n",
    "\n",
    "import matplotlib\n",
    "import matplotlib.pyplot as plt"
   ]
  },
  {
   "cell_type": "markdown",
   "id": "4785e390-8cb9-44c3-8bda-fbbf9018e083",
   "metadata": {},
   "source": [
    "## Parameters"
   ]
  },
  {
   "cell_type": "code",
   "execution_count": 3,
   "id": "08c02be5-7c3d-4cd7-af4a-e0f83e1a5ca3",
   "metadata": {
    "editable": true,
    "slideshow": {
     "slide_type": ""
    },
    "tags": []
   },
   "outputs": [],
   "source": [
    "# randomness\n",
    "seed = 42\n",
    "seed_rpy = rpy.set_seed(seed)\n",
    "\n",
    "# data\n",
    "warmup = 200\n",
    "train_len, test_len = 2000, 500\n",
    "train_len += warmup\n",
    "timesteps = train_len + test_len + forecast\n",
    "\n",
    "# model\n",
    "plot = False\n",
    "\n",
    "units = 100\n",
    "spectral_radius = 0.99\n",
    "leak_rate = 0.3\n",
    "input_scaling = 1.0\n",
    "connectivity = 0.1\n",
    "input_connectivity = 0.2\n",
    "regularization = 1e-8"
   ]
  },
  {
   "cell_type": "markdown",
   "id": "10c132af-bc63-4794-89d2-2c1ac8545a3a",
   "metadata": {},
   "source": [
    "## Data"
   ]
  },
  {
   "cell_type": "code",
   "execution_count": 4,
   "id": "d1af31d3-1716-4440-8369-d05b9596c727",
   "metadata": {
    "editable": true,
    "slideshow": {
     "slide_type": ""
    },
    "tags": []
   },
   "outputs": [],
   "source": [
    "if time_series == \"mackeyglass\":\n",
    "    \n",
    "    tau = 17\n",
    "    X = mackey_glass(timesteps, tau=tau)\n",
    "    X = 2 * (X - X.min()) / (X.max() - X.min()) - 1 # rescale ts between -1 and 1\n",
    "    \n",
    "elif time_series == \"lorenz\":\n",
    "    \n",
    "    X = lorenz(timesteps)\n",
    "\n",
    "elif time_series == \"henonmap\":\n",
    "    \n",
    "    X = henon_map(timesteps)\n",
    "\n",
    "else:\n",
    "    raise Exception(\"Time series not defined.\")\n",
    "\n",
    "output_dim = X.shape[1]"
   ]
  },
  {
   "cell_type": "code",
   "execution_count": 5,
   "id": "d8c19810-b977-4ab3-b366-e24da6645691",
   "metadata": {
    "editable": true,
    "slideshow": {
     "slide_type": ""
    },
    "tags": []
   },
   "outputs": [],
   "source": [
    "def plot_time_series(X, timesteps, forecast):\n",
    "\n",
    "    fig = plt.figure(figsize=(13, 3))\n",
    "    N = timesteps\n",
    "\n",
    "    ax = plt.subplot((121))\n",
    "    t = np.linspace(0, N, N)\n",
    "    for i in range(N-1):\n",
    "        ax.plot(t[i:i+2], X[i:i+2], color=plt.cm.rainbow(255*i//N), lw=1.0)\n",
    "\n",
    "    plt.title(f\"Timeseries - {N} timesteps\")\n",
    "    plt.xlabel(\"$t$\")\n",
    "    plt.ylabel(\"$P(t)$\")\n",
    "\n",
    "    ax2 = plt.subplot((122))\n",
    "    ax2.margins(0.05)\n",
    "    for i in range(N-1):\n",
    "        ax2.plot(X[i:i+2], X[i+forecast:i+forecast+2], color=plt.cm.rainbow(255*i//N), lw=1.0)\n",
    "\n",
    "    plt.title(\"Phase diagram\")\n",
    "    plt.xlabel(f\"$P(t-{forecast})$\")\n",
    "    plt.ylabel(\"$P(t)$\")\n",
    "\n",
    "    plt.tight_layout()\n",
    "    plt.show()"
   ]
  },
  {
   "cell_type": "code",
   "execution_count": 6,
   "id": "def7436b-7c95-4497-8f32-c5dba9605c94",
   "metadata": {},
   "outputs": [],
   "source": [
    "if plot:\n",
    "    plot_time_series(X, timesteps-forecast, forecast)"
   ]
  },
  {
   "cell_type": "code",
   "execution_count": 7,
   "id": "680834dc-a1a8-4b25-b36c-3e4fa61c18fe",
   "metadata": {},
   "outputs": [
    {
     "data": {
      "text/plain": [
       "((2200, 1), (2200, 1), (500, 1), (500, 1))"
      ]
     },
     "execution_count": 7,
     "metadata": {},
     "output_type": "execute_result"
    }
   ],
   "source": [
    "x, y = to_forecasting(X, forecast=forecast)\n",
    "\n",
    "X_train, y_train = x[:train_len], y[:train_len]\n",
    "X_test, y_test = x[train_len:], y[train_len:]\n",
    "\n",
    "X_train.shape, y_train.shape, X_test.shape, y_test.shape"
   ]
  },
  {
   "cell_type": "markdown",
   "id": "e3b22924-7b45-4d58-a432-f1061fec519c",
   "metadata": {},
   "source": [
    "## Model"
   ]
  },
  {
   "cell_type": "code",
   "execution_count": 8,
   "id": "97c1e8e7-516e-41f9-aef0-94c7547be42e",
   "metadata": {},
   "outputs": [],
   "source": [
    "def quantize(arr, num_bits, verbose=False):\n",
    "    \"\"\"\n",
    "    Quantize a numpy array to a specified number of bits.\n",
    "    \n",
    "    Parameters:\n",
    "    arr (numpy.ndarray): Input array to be quantized\n",
    "    num_bits (int): Number of bits for quantization\n",
    "    \n",
    "    Returns:\n",
    "    numpy.ndarray: Quantized array\n",
    "    \"\"\"\n",
    "    # Determine the range of the input array\n",
    "    min_val, max_val = arr.min(), arr.max()\n",
    "    \n",
    "    # Calculate the step size\n",
    "    steps = 2**num_bits - 1\n",
    "    step_size = (max_val - min_val) / steps\n",
    "    \n",
    "    # Quantize the array\n",
    "    quantized = np.round((arr - min_val) / step_size)\n",
    "    \n",
    "    # Scale back to the original range\n",
    "    quantized = quantized * step_size + min_val\n",
    "\n",
    "    if verbose:\n",
    "        print(\"Quantization done.\")\n",
    "    return quantized"
   ]
  },
  {
   "cell_type": "code",
   "execution_count": 9,
   "id": "d9a37249-9079-485d-948e-6926d6253eea",
   "metadata": {},
   "outputs": [],
   "source": [
    "def W_custom(size, sr, sparsity, num_bits=64):\n",
    "    \n",
    "    W = np.random.normal(0, 1, (size, size))\n",
    "    W[np.random.rand(*W.shape) > sparsity] = 0  # Apply sparsity\n",
    "    \n",
    "    eigvals = np.linalg.eigvals(W)\n",
    "    W *= sr / max(abs(eigvals))    # Normalize spectral radius\n",
    "    eigvals = np.linalg.eigvals(W)\n",
    "    print(\"\\nrho =\", max(abs(eigvals)))\n",
    "\n",
    "    W = quantize(W, num_bits=num_bits, verbose=True) # quantization\n",
    "    \n",
    "    return W    \n",
    "\n",
    "def reset_esn(output_dim=1):\n",
    "\n",
    "    W_res = W_custom(size=units, \n",
    "                     sr=spectral_radius, \n",
    "                     sparsity=connectivity, \n",
    "                     num_bits=num_bits)\n",
    "    \n",
    "    reservoir = Reservoir(units=units,\n",
    "                          input_scaling=input_scaling, \n",
    "                          sr=spectral_radius,\n",
    "                          lr=leak_rate, \n",
    "                          rc_connectivity=connectivity,\n",
    "                          input_connectivity=input_connectivity,\n",
    "                          W=W_res, # custom weights\n",
    "                          seed=seed_rpy)\n",
    "        \n",
    "    readout   = Ridge(output_dim, ridge=regularization)\n",
    "\n",
    "    return reservoir >> readout"
   ]
  },
  {
   "cell_type": "code",
   "execution_count": 10,
   "id": "2e7a7279-d0b6-4aa8-89fe-1c0ad4d8a464",
   "metadata": {},
   "outputs": [],
   "source": [
    "def get_scores(y_test, y_pred):\n",
    "\n",
    "    mse_ = mse(y_test, y_pred).item()\n",
    "    nrmse_ = nrmse(y_test, y_pred).item()\n",
    "    rmse_ = rmse(y_test, y_pred).item()\n",
    "    rsquare_ = rsquare(y_test, y_pred).item()\n",
    "    \n",
    "    return mse_, nrmse_, rmse_, rsquare_"
   ]
  },
  {
   "cell_type": "code",
   "execution_count": 11,
   "id": "dfa2d04a-137c-43a3-ac12-05252fcd01e0",
   "metadata": {},
   "outputs": [],
   "source": [
    "def experiment(X_train, y_train, X_test, y_test, warmup, num_bits):\n",
    "    \n",
    "    # Train\n",
    "    esn = reset_esn(output_dim=output_dim)\n",
    "    esn = esn.fit(X_train, y_train, warmup=warmup)\n",
    "    \n",
    "    # Quantize Wout\n",
    "    if quant_mode == \"all\":\n",
    "        \n",
    "        ridge_name = esn.nodes[1].name\n",
    "        Wout, bias = esn.params[ridge_name].values()\n",
    "        tmp = quantize(np.vstack([Wout, bias]), num_bits=num_bits)\n",
    "        Wout = tmp[:-1]\n",
    "        bias = tmp[-1].reshape(-1, output_dim)\n",
    "        esn.params[ridge_name][\"Wout\"] = Wout\n",
    "        esn.params[ridge_name][\"bias\"] = bias\n",
    "        print(\"Quantization done.\")\n",
    "    \n",
    "    # Test\n",
    "    y_pred = esn.run(X_test)\n",
    "    score = get_scores(y_test, y_pred)\n",
    "    # print(f\"Score: {score}\")\n",
    "    \n",
    "    return score"
   ]
  },
  {
   "cell_type": "code",
   "execution_count": 12,
   "id": "b12a23c7-f877-47f9-ad4b-48b20406f27f",
   "metadata": {},
   "outputs": [
    {
     "name": "stdout",
     "output_type": "stream",
     "text": [
      "\n",
      "rho = 0.9900000000000039\n",
      "Quantization done.\n"
     ]
    },
    {
     "name": "stderr",
     "output_type": "stream",
     "text": [
      "Running Model-0:   0%|                                                                              | 0/1 [00:00<?, ?it/s]\n",
      "Running Model-0: 2200it [00:00, 23805.70it/s]                                                                             \n",
      "Running Model-0: 100%|██████████████████████████████████████████████████████████████████████| 1/1 [00:00<00:00, 10.42it/s]\n"
     ]
    },
    {
     "name": "stdout",
     "output_type": "stream",
     "text": [
      "Fitting node Ridge-0...\n",
      "Quantization done.\n"
     ]
    },
    {
     "name": "stderr",
     "output_type": "stream",
     "text": [
      "Running Model-0: 500it [00:00, 26278.12it/s]                                                                              \n"
     ]
    },
    {
     "name": "stdout",
     "output_type": "stream",
     "text": [
      "\n",
      "rho = 0.9899999999999956\n",
      "Quantization done.\n"
     ]
    },
    {
     "name": "stderr",
     "output_type": "stream",
     "text": [
      "Running Model-1:   0%|                                                                              | 0/1 [00:00<?, ?it/s]\n",
      "Running Model-1: 2200it [00:00, 26295.68it/s]                                                                             \n",
      "Running Model-1: 100%|██████████████████████████████████████████████████████████████████████| 1/1 [00:00<00:00, 11.52it/s]\n"
     ]
    },
    {
     "name": "stdout",
     "output_type": "stream",
     "text": [
      "Fitting node Ridge-1...\n",
      "Quantization done.\n"
     ]
    },
    {
     "name": "stderr",
     "output_type": "stream",
     "text": [
      "Running Model-1: 500it [00:00, 26195.74it/s]                                                                              \n"
     ]
    },
    {
     "name": "stdout",
     "output_type": "stream",
     "text": [
      "\n",
      "rho = 0.990000000000003\n",
      "Quantization done.\n"
     ]
    },
    {
     "name": "stderr",
     "output_type": "stream",
     "text": [
      "Running Model-2:   0%|                                                                              | 0/1 [00:00<?, ?it/s]\n",
      "Running Model-2: 2200it [00:00, 25410.50it/s]                                                                             \n",
      "Running Model-2: 100%|██████████████████████████████████████████████████████████████████████| 1/1 [00:00<00:00, 11.18it/s]\n"
     ]
    },
    {
     "name": "stdout",
     "output_type": "stream",
     "text": [
      "Fitting node Ridge-2...\n",
      "Quantization done.\n"
     ]
    },
    {
     "name": "stderr",
     "output_type": "stream",
     "text": [
      "Running Model-2: 500it [00:00, 25527.39it/s]                                                                              \n"
     ]
    },
    {
     "name": "stdout",
     "output_type": "stream",
     "text": [
      "\n",
      "rho = 0.990000000000001\n",
      "Quantization done.\n"
     ]
    },
    {
     "name": "stderr",
     "output_type": "stream",
     "text": [
      "Running Model-3:   0%|                                                                              | 0/1 [00:00<?, ?it/s]\n",
      "Running Model-3: 2200it [00:00, 25460.85it/s]                                                                             \n",
      "Running Model-3: 100%|██████████████████████████████████████████████████████████████████████| 1/1 [00:00<00:00, 11.14it/s]\n"
     ]
    },
    {
     "name": "stdout",
     "output_type": "stream",
     "text": [
      "Fitting node Ridge-3...\n",
      "Quantization done.\n"
     ]
    },
    {
     "name": "stderr",
     "output_type": "stream",
     "text": [
      "Running Model-3: 500it [00:00, 24514.62it/s]                                                                              \n"
     ]
    },
    {
     "name": "stdout",
     "output_type": "stream",
     "text": [
      "\n",
      "rho = 0.9900000000000031\n",
      "Quantization done.\n"
     ]
    },
    {
     "name": "stderr",
     "output_type": "stream",
     "text": [
      "Running Model-4:   0%|                                                                              | 0/1 [00:00<?, ?it/s]\n",
      "Running Model-4: 2200it [00:00, 24284.67it/s]                                                                             \n",
      "Running Model-4: 100%|██████████████████████████████████████████████████████████████████████| 1/1 [00:00<00:00, 10.61it/s]\n"
     ]
    },
    {
     "name": "stdout",
     "output_type": "stream",
     "text": [
      "Fitting node Ridge-4...\n",
      "Quantization done.\n"
     ]
    },
    {
     "name": "stderr",
     "output_type": "stream",
     "text": [
      "Running Model-4: 500it [00:00, 24904.43it/s]                                                                              \n"
     ]
    },
    {
     "name": "stdout",
     "output_type": "stream",
     "text": [
      "\n",
      "rho = 0.9899999999999982\n",
      "Quantization done.\n"
     ]
    },
    {
     "name": "stderr",
     "output_type": "stream",
     "text": [
      "Running Model-5:   0%|                                                                              | 0/1 [00:00<?, ?it/s]\n",
      "Running Model-5: 2200it [00:00, 25943.39it/s]                                                                             \n",
      "Running Model-5: 100%|██████████████████████████████████████████████████████████████████████| 1/1 [00:00<00:00, 11.34it/s]\n"
     ]
    },
    {
     "name": "stdout",
     "output_type": "stream",
     "text": [
      "Fitting node Ridge-5...\n",
      "Quantization done.\n"
     ]
    },
    {
     "name": "stderr",
     "output_type": "stream",
     "text": [
      "Running Model-5: 500it [00:00, 26589.98it/s]                                                                              \n"
     ]
    },
    {
     "name": "stdout",
     "output_type": "stream",
     "text": [
      "\n",
      "rho = 0.9899999999999963\n",
      "Quantization done.\n"
     ]
    },
    {
     "name": "stderr",
     "output_type": "stream",
     "text": [
      "Running Model-6:   0%|                                                                              | 0/1 [00:00<?, ?it/s]\n",
      "Running Model-6: 2200it [00:00, 25306.60it/s]                                                                             \n",
      "Running Model-6: 100%|██████████████████████████████████████████████████████████████████████| 1/1 [00:00<00:00, 11.03it/s]\n"
     ]
    },
    {
     "name": "stdout",
     "output_type": "stream",
     "text": [
      "Fitting node Ridge-6...\n",
      "Quantization done.\n"
     ]
    },
    {
     "name": "stderr",
     "output_type": "stream",
     "text": [
      "Running Model-6: 500it [00:00, 25376.65it/s]                                                                              \n"
     ]
    },
    {
     "name": "stdout",
     "output_type": "stream",
     "text": [
      "\n",
      "rho = 0.9900000000000052\n",
      "Quantization done.\n"
     ]
    },
    {
     "name": "stderr",
     "output_type": "stream",
     "text": [
      "Running Model-7:   0%|                                                                              | 0/1 [00:00<?, ?it/s]\n",
      "Running Model-7: 2200it [00:00, 24807.76it/s]                                                                             \n",
      "Running Model-7: 100%|██████████████████████████████████████████████████████████████████████| 1/1 [00:00<00:00, 10.84it/s]\n"
     ]
    },
    {
     "name": "stdout",
     "output_type": "stream",
     "text": [
      "Fitting node Ridge-7...\n",
      "Quantization done.\n"
     ]
    },
    {
     "name": "stderr",
     "output_type": "stream",
     "text": [
      "Running Model-7: 500it [00:00, 25394.78it/s]                                                                              \n"
     ]
    },
    {
     "name": "stdout",
     "output_type": "stream",
     "text": [
      "\n",
      "rho = 0.9900000000000094\n",
      "Quantization done.\n"
     ]
    },
    {
     "name": "stderr",
     "output_type": "stream",
     "text": [
      "Running Model-8:   0%|                                                                              | 0/1 [00:00<?, ?it/s]\n",
      "Running Model-8: 2200it [00:00, 24371.90it/s]                                                                             \n",
      "Running Model-8: 100%|██████████████████████████████████████████████████████████████████████| 1/1 [00:00<00:00, 10.66it/s]\n"
     ]
    },
    {
     "name": "stdout",
     "output_type": "stream",
     "text": [
      "Fitting node Ridge-8...\n",
      "Quantization done.\n"
     ]
    },
    {
     "name": "stderr",
     "output_type": "stream",
     "text": [
      "Running Model-8: 500it [00:00, 26063.56it/s]                                                                              \n"
     ]
    },
    {
     "name": "stdout",
     "output_type": "stream",
     "text": [
      "\n",
      "rho = 0.9900000000000013\n",
      "Quantization done.\n"
     ]
    },
    {
     "name": "stderr",
     "output_type": "stream",
     "text": [
      "Running Model-9:   0%|                                                                              | 0/1 [00:00<?, ?it/s]\n",
      "Running Model-9: 2200it [00:00, 25199.00it/s]                                                                             \n",
      "Running Model-9: 100%|██████████████████████████████████████████████████████████████████████| 1/1 [00:00<00:00, 10.96it/s]\n"
     ]
    },
    {
     "name": "stdout",
     "output_type": "stream",
     "text": [
      "Fitting node Ridge-9...\n",
      "Quantization done.\n"
     ]
    },
    {
     "name": "stderr",
     "output_type": "stream",
     "text": [
      "Running Model-9: 500it [00:00, 26341.83it/s]                                                                              "
     ]
    },
    {
     "name": "stdout",
     "output_type": "stream",
     "text": [
      "Scores: {'mse': [1.3539067110705146e-06, 2.8886798108408104e-07], 'nrmse': [0.0006042555853635369, 6.396948555827167e-05], 'rmse': [0.0011571089524984, 0.00012249727800473864], 'rsquare': [0.9999941712799518, 1.2436090159354816e-06]}\n"
     ]
    },
    {
     "name": "stderr",
     "output_type": "stream",
     "text": [
      "\n"
     ]
    }
   ],
   "source": [
    "np.random.seed(seed)\n",
    "\n",
    "scores = []\n",
    "\n",
    "for i in range(num_exp):\n",
    "    \n",
    "    score = experiment(X_train, y_train, X_test, y_test, warmup, num_bits)\n",
    "    scores.append(score)\n",
    "\n",
    "score_d = {}\n",
    "\n",
    "for j, k in enumerate([\"mse\", \"nrmse\", \"rmse\", \"rsquare\"]):\n",
    "    \n",
    "    tmp = [scores[i][j] for i in range(len(scores))]\n",
    "    mean = np.mean(tmp).item()\n",
    "    std = np.std(tmp).item()\n",
    "\n",
    "    score_d[k] = [mean, std]    \n",
    "\n",
    "print(f\"Scores: {score_d}\")"
   ]
  },
  {
   "cell_type": "markdown",
   "id": "e615ce2f-67c5-4023-9aff-318f31cc6d39",
   "metadata": {},
   "source": [
    "## Results"
   ]
  },
  {
   "cell_type": "code",
   "execution_count": 13,
   "id": "cd1b3b2a-4e8f-42ad-ad40-4bb56460df53",
   "metadata": {},
   "outputs": [],
   "source": [
    "folder = f\"runs/{time_series}_{quant_mode}\"\n",
    "\n",
    "if not os.path.exists(folder):\n",
    "    os.makedirs(folder)\n",
    "\n",
    "file = os.path.join(folder, f\"{forecast}_{num_bits}.pkl\")\n",
    "\n",
    "with open(file, \"wb\") as fh:\n",
    "    pickle.dump(score_d, fh)"
   ]
  },
  {
   "cell_type": "code",
   "execution_count": 14,
   "id": "de0e15c8-ab23-4f77-b27c-6fbf6030187d",
   "metadata": {},
   "outputs": [],
   "source": [
    "# # load results\n",
    "# with open(file, \"rb\") as fh:\n",
    "#     scores_d2 = pickle.load(fh)\n",
    "\n",
    "# scores_d2"
   ]
  },
  {
   "cell_type": "code",
   "execution_count": 15,
   "id": "53aef4d3-2f16-4165-80f9-25e4f9b9c39a",
   "metadata": {},
   "outputs": [
    {
     "data": {
      "text/plain": [
       "{'mse': [1.3539067110705146e-06, 2.8886798108408104e-07],\n",
       " 'nrmse': [0.0006042555853635369, 6.396948555827167e-05],\n",
       " 'rmse': [0.0011571089524984, 0.00012249727800473864],\n",
       " 'rsquare': [0.9999941712799518, 1.2436090159354816e-06]}"
      ]
     },
     "execution_count": 15,
     "metadata": {},
     "output_type": "execute_result"
    }
   ],
   "source": [
    "score_d"
   ]
  },
  {
   "cell_type": "code",
   "execution_count": null,
   "id": "4246ef22-9a53-48fb-a535-f2dbc3ac9b11",
   "metadata": {},
   "outputs": [],
   "source": []
  },
  {
   "cell_type": "code",
   "execution_count": null,
   "id": "19dc2a1a-255c-4adf-b541-8ff66e2ba6da",
   "metadata": {},
   "outputs": [],
   "source": []
  },
  {
   "cell_type": "raw",
   "id": "61ca58f2-4e29-4d15-a85c-75dbe3ab13f4",
   "metadata": {},
   "source": [
    "def plot_results(y_pred, y_test, test_len=test_len):\n",
    "\n",
    "    fig = plt.figure(figsize=(15, 7))\n",
    "    plt.subplot(211)\n",
    "    plt.plot(np.arange(test_len), y_pred[:test_len], lw=3, label=\"ESN prediction\")\n",
    "    plt.plot(np.arange(test_len), y_test[:test_len], linestyle=\"--\", lw=2, label=\"True value\")\n",
    "    plt.plot(np.abs(y_test[:test_len] - y_pred[:test_len]), label=\"Absolute deviation\")\n",
    "\n",
    "    plt.legend(loc=\"lower right\")\n",
    "    plt.show()"
   ]
  },
  {
   "cell_type": "raw",
   "id": "c4111d31-33cc-4c04-826b-726a6a8ff0ac",
   "metadata": {},
   "source": [
    "if plot:\n",
    "    plot_results(y_pred, y_test)"
   ]
  },
  {
   "cell_type": "code",
   "execution_count": null,
   "id": "b65dff4a-eac0-4525-802a-372987a40a22",
   "metadata": {},
   "outputs": [],
   "source": []
  }
 ],
 "metadata": {
  "kernelspec": {
   "display_name": "Python 3 (ipykernel)",
   "language": "python",
   "name": "python3"
  },
  "language_info": {
   "codemirror_mode": {
    "name": "ipython",
    "version": 3
   },
   "file_extension": ".py",
   "mimetype": "text/x-python",
   "name": "python",
   "nbconvert_exporter": "python",
   "pygments_lexer": "ipython3",
   "version": "3.13.1"
  }
 },
 "nbformat": 4,
 "nbformat_minor": 5
}
